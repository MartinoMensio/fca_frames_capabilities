{
 "cells": [
  {
   "cell_type": "code",
   "execution_count": 1,
   "metadata": {},
   "outputs": [],
   "source": [
    "from conceptnet import ConceptNet\n",
    "\n",
    "wrapper = ConceptNet()\n",
    "# the first group\n",
    "group_person = wrapper.getId('person'), wrapper.getId('human'), wrapper.getId('name')\n",
    "# the second group\n",
    "group_thing = wrapper.getId('thing'), wrapper.getId('object'), wrapper.getId('item')"
   ]
  },
  {
   "cell_type": "code",
   "execution_count": 2,
   "metadata": {},
   "outputs": [
    {
     "name": "stdout",
     "output_type": "stream",
     "text": [
      "'/c/en/my_aunt' is not a node in ConceptNet.\n",
      "\n",
      "Classifying /c/en/boss\n",
      "5\n",
      "reason {'/a/[/r/IsA/,/c/en/boss/,/c/en/human/]', '/a/[/r/IsA/,/c/en/boss/,/c/en/person/]'}\n",
      "/c/en/boss person\n",
      "\n",
      "Classifying /c/en/me\n",
      "5\n",
      "reason {'/a/[/r/RelatedTo/,/c/en/me/,/c/en/person/]'}\n",
      "/c/en/me person\n",
      "\n",
      "Classifying /c/en/student\n",
      "5\n",
      "reason {'/a/[/r/RelatedTo/,/c/en/student/n/,/c/en/person/]', '/a/[/r/IsA/,/c/en/student/,/c/en/person/]', '/a/[/r/IsA/,/c/en/student/n/,/c/en/person/n/]', '/a/[/r/RelatedTo/,/c/en/student/,/c/en/person/]'}\n",
      "/c/en/student person\n",
      "\n",
      "Classifying /c/en/mug\n",
      "5\n",
      "recurring on {'/c/en/container', '/c/en/thick_cup_often', '/c/en/containerful/n', '/c/en/dish', '/c/en/drinking_vessel_with_handle', '/c/en/drinking_vessel/n'}\n",
      "4\n",
      "reason {'/a/[/r/IsA/,/c/en/container/,/c/en/item/]'}\n",
      "/c/en/mug thing\n",
      "\n",
      "Classifying /c/en/pen\n",
      "5\n",
      "reason {'/a/[/r/IsA/,/c/en/pen/,/c/en/object/]'}\n",
      "/c/en/pen thing\n",
      "\n",
      "Classifying /c/en/john\n",
      "5\n",
      "reason {'/a/[/r/IsA/,/c/en/john/n/,/c/en/person/n/]'}\n",
      "/c/en/john person\n",
      "\n",
      "Classifying /c/en/mark\n",
      "5\n",
      "reason {'/a/[/r/RelatedTo/,/c/en/mark/,/c/en/name/]'}\n",
      "/c/en/mark person\n",
      "\n",
      "Classifying /c/en/aunt\n",
      "5\n",
      "recurring on {'/c/en/kinswoman/n', \"/c/en/parent's_sister\", '/c/en/family_relationship_term', '/c/de/relative', '/c/en/sister_of_parent'}\n",
      "4\n",
      "recurring on {'/c/en/relative/n'}\n",
      "3\n",
      "reason {'/a/[/r/IsA/,/c/en/relative/n/,/c/en/person/n/]'}\n",
      "/c/en/aunt person\n",
      "\n",
      "Classifying /c/en/phone\n",
      "5\n",
      "recurring on {'/c/en/electrical_device/n', '/c/en/language_unit/n', '/c/en/another_way_of_saying_telephone', '/c/en/telephone', '/c/en/manufactured_device', '/c/en/device', '/c/en/machine', '/c/en/shortened_form_of_telephone', '/c/en/tool', '/c/en/communication_device/n', '/c/en/short_way_of_saying_telephone', '/c/en/form_of_communication', '/c/en/tool_to_call', '/c/en/abbreviation_of_telephone'}\n",
      "4\n",
      "reason {'/a/[/r/IsA/,/c/en/tool/,/c/en/object/]', '/a/[/r/IsA/,/c/en/tool/,/c/en/item/]', '/a/[/r/RelatedTo/,/c/en/machine/,/c/en/thing/]', '/a/[/r/RelatedTo/,/c/en/tool/,/c/en/object/]', '/a/[/r/RelatedTo/,/c/en/tool/,/c/en/item/]', '/a/[/r/RelatedTo/,/c/en/machine/,/c/en/object/]', '/a/[/r/RelatedTo/,/c/en/machine/,/c/en/item/]'}\n",
      "/c/en/phone thing\n",
      "\n",
      "Classifying /c/en/coffee\n",
      "5\n",
      "recurring on {'/c/en/gooooooooooooooood', '/c/en/liquid', '/c/en/artificial_substance/n', '/c/en/hot_beverage', '/c/en/addictive_substance', '/c/en/beverage/n', '/c/en/bushy_plant', '/c/en/bitterness/n', '/c/en/acquired_taste', '/c/en/liquid_solution/n', '/c/en/coffee/n', '/c/en/low_margin_product', '/c/en/popular_drink', '/c/en/tree/n', '/c/en/popular_morning_drink', '/c/en/good_after_dinner_drink', '/c/en/refreshing_and_stimulating_beverage', '/c/en/mixture/n', '/c/en/ready_to_eat_food/n', '/c/en/made_using_hot_water', '/c/en/stimulant', '/c/en/tasty_drink', '/c/en/breakfast_beverage', '/c/en/beverage', '/c/en/made_using_water_and_coffee_beans'}\n",
      "4\n",
      "reason {'/a/[/r/Antonym/,/c/en/beverage/,/c/en/thing/]'}\n",
      "/c/en/coffee thing\n"
     ]
    }
   ],
   "source": [
    "candidates = ['the boss', 'me', 'the student', 'the mug', 'the pen', 'John', 'Mark', 'my aunt', 'aunt', 'the phone', 'a coffee']\n",
    "candidates = [wrapper.getId(c) for c in candidates]\n",
    "candidates = [c for c in candidates if c]\n",
    "for c in candidates:\n",
    "    print('\\nClassifying', c)\n",
    "    classified = wrapper.classifyRecurrent([c], group_person, group_thing, 5)\n",
    "    if classified > 0:\n",
    "        print(c, 'person')\n",
    "    elif classified < 0:\n",
    "        print(c, 'thing')\n",
    "    else:\n",
    "        print(c, 'unknown')"
   ]
  },
  {
   "cell_type": "code",
   "execution_count": null,
   "metadata": {},
   "outputs": [],
   "source": []
  }
 ],
 "metadata": {
  "kernelspec": {
   "display_name": "Python 3",
   "language": "python",
   "name": "python3"
  },
  "language_info": {
   "codemirror_mode": {
    "name": "ipython",
    "version": 3
   },
   "file_extension": ".py",
   "mimetype": "text/x-python",
   "name": "python",
   "nbconvert_exporter": "python",
   "pygments_lexer": "ipython3",
   "version": "3.6.5"
  }
 },
 "nbformat": 4,
 "nbformat_minor": 2
}
