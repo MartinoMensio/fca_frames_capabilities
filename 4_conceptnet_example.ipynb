{
 "cells": [
  {
   "cell_type": "code",
   "execution_count": 1,
   "metadata": {},
   "outputs": [],
   "source": [
    "from conceptnet import ConceptNet\n",
    "\n",
    "wrapper = ConceptNet()\n",
    "# the first group\n",
    "group_person = ['person', 'human', 'name']\n",
    "group_person = [wrapper.getId(el) for el in group_person]\n",
    "# the second group\n",
    "group_thing = ['thing', 'object', 'item', 'tool']\n",
    "group_thing = [wrapper.getId(el) for el in group_thing]"
   ]
  },
  {
   "cell_type": "code",
   "execution_count": 2,
   "metadata": {},
   "outputs": [
    {
     "name": "stdout",
     "output_type": "stream",
     "text": [
      "'/c/en/my_aunt' is not a node in ConceptNet.\n",
      "\n",
      "Classifying /c/en/boss\n",
      "5\n",
      "RESULT=group_a reason {'/a/[/r/IsA/,/c/en/boss/,/c/en/person/]', '/a/[/r/IsA/,/c/en/boss/,/c/en/human/]'} > set()\n",
      "/c/en/boss person\n",
      "\n",
      "Classifying /c/en/me\n",
      "5\n",
      "RESULT=group_a reason {'/a/[/r/RelatedTo/,/c/en/me/,/c/en/person/]'} > set()\n",
      "/c/en/me person\n",
      "\n",
      "Classifying /c/en/student\n",
      "5\n",
      "RESULT=group_a reason {'/a/[/r/RelatedTo/,/c/en/student/,/c/en/person/]', '/a/[/r/IsA/,/c/en/student/n/,/c/en/person/n/]', '/a/[/r/RelatedTo/,/c/en/student/n/,/c/en/person/]', '/a/[/r/IsA/,/c/en/student/,/c/en/person/]'} > set()\n",
      "/c/en/student person\n",
      "\n",
      "Classifying /c/en/mug\n",
      "5\n",
      "recurring on {'/c/en/drinking_vessel_with_handle', '/c/en/dish', '/c/en/thick_cup_often', '/c/en/drinking_vessel/n', '/c/en/container', '/c/en/containerful/n'}\n",
      "4\n",
      "RESULT=group_b reason {'/a/[/r/IsA/,/c/en/container/,/c/en/item/]'} > set()\n",
      "/c/en/mug thing\n",
      "\n",
      "Classifying /c/en/pen\n",
      "5\n",
      "RESULT=group_b reason {'/a/[/r/IsA/,/c/en/pen/,/c/en/object/]', '/a/[/r/RelatedTo/,/c/en/pen/,/c/en/tool/]'} > set()\n",
      "/c/en/pen thing\n",
      "\n",
      "Classifying /c/en/john\n",
      "5\n",
      "RESULT=group_a reason {'/a/[/r/IsA/,/c/en/john/n/,/c/en/person/n/]'} > set()\n",
      "/c/en/john person\n",
      "\n",
      "Classifying /c/en/mark\n",
      "5\n",
      "RESULT=group_a reason {'/a/[/r/RelatedTo/,/c/en/mark/,/c/en/name/]'} > set()\n",
      "/c/en/mark person\n",
      "\n",
      "Classifying /c/en/aunt\n",
      "5\n",
      "recurring on {'/c/de/relative', \"/c/en/parent's_sister\", '/c/en/kinswoman/n', '/c/en/family_relationship_term', '/c/en/sister_of_parent'}\n",
      "4\n",
      "recurring on {'/c/en/relative/n'}\n",
      "3\n",
      "RESULT=group_a reason {'/a/[/r/IsA/,/c/en/relative/n/,/c/en/person/n/]'} > set()\n",
      "/c/en/aunt person\n",
      "\n",
      "Classifying /c/en/phone\n",
      "5\n",
      "RESULT=group_b reason {'/a/[/r/IsA/,/c/en/phone/,/c/en/tool/]', '/a/[/r/RelatedTo/,/c/en/phone/,/c/en/tool/]'} > set()\n",
      "/c/en/phone thing\n",
      "\n",
      "Classifying /c/en/coffee\n",
      "5\n",
      "recurring on {'/c/en/acquired_taste', '/c/en/refreshing_and_stimulating_beverage', '/c/en/popular_drink', '/c/en/bitterness/n', '/c/en/gooooooooooooooood', '/c/en/bushy_plant', '/c/en/liquid', '/c/en/tasty_drink', '/c/en/beverage/n', '/c/en/addictive_substance', '/c/en/mixture/n', '/c/en/breakfast_beverage', '/c/en/made_using_hot_water', '/c/en/tree/n', '/c/en/made_using_water_and_coffee_beans', '/c/en/good_after_dinner_drink', '/c/en/hot_beverage', '/c/en/popular_morning_drink', '/c/en/liquid_solution/n', '/c/en/stimulant', '/c/en/coffee/n', '/c/en/low_margin_product', '/c/en/artificial_substance/n', '/c/en/ready_to_eat_food/n', '/c/en/beverage'}\n",
      "4\n",
      "RESULT=group_b reason {'/a/[/r/Antonym/,/c/en/beverage/,/c/en/thing/]'} > set()\n",
      "/c/en/coffee thing\n"
     ]
    }
   ],
   "source": [
    "candidates = ['the boss', 'me', 'the student', 'the mug', 'the pen', 'John', 'Mark', 'my aunt', 'aunt', 'the phone', 'a coffee']\n",
    "candidates = [wrapper.getId(c) for c in candidates]\n",
    "candidates = [c for c in candidates if c]\n",
    "for c in candidates:\n",
    "    print('\\nClassifying', c)\n",
    "    classified = wrapper.classifyRecurrent([c], group_person, group_thing, 5)\n",
    "    if classified > 0:\n",
    "        print(c, 'person')\n",
    "    elif classified < 0:\n",
    "        print(c, 'thing')\n",
    "    else:\n",
    "        print(c, 'unknown')"
   ]
  },
  {
   "cell_type": "code",
   "execution_count": 3,
   "metadata": {},
   "outputs": [
    {
     "name": "stdout",
     "output_type": "stream",
     "text": [
      "/c/en/householder\n",
      "5\n",
      "related terms {'/c/fr/propriétaire', '/c/en/head', '/c/fr/maison', '/c/en/house', '/c/en/household', '/c/en/layperson'}\n",
      "4\n",
      "RESULT=group_a reason {'/a/[/r/RelatedTo/,/c/en/household/n/,/c/en/person/]', '/a/[/r/RelatedTo/,/c/en/head/,/c/en/human/]', '/a/[/r/RelatedTo/,/c/en/head/,/c/en/person/]', '/a/[/r/DerivedFrom/,/c/en/layperson/,/c/en/person/]'} > {'/a/[/r/IsA/,/c/en/house/,/c/en/thing/]', '/a/[/r/IsA/,/c/en/head/n/,/c/en/object/n/]', '/a/[/r/RelatedTo/,/c/en/head/,/c/en/object/]'}\n"
     ]
    }
   ],
   "source": [
    "word_id = wrapper.getId('the householder')\n",
    "print(word_id)\n",
    "if word_id:\n",
    "    wrapper.classifyRecurrent([word_id], group_person, group_thing, 5)"
   ]
  },
  {
   "cell_type": "code",
   "execution_count": 4,
   "metadata": {},
   "outputs": [
    {
     "name": "stdout",
     "output_type": "stream",
     "text": [
      "/c/en/ukulele\n",
      "5\n",
      "recurring on {'/c/en/instrument', '/c/en/small_instrument_with_four_strings', '/c/en/string_instrument'}\n",
      "4\n",
      "RESULT=group_b reason {'/a/[/r/UsedFor/,/c/en/instrument/,/c/en/tool/]', '/a/[/r/RelatedTo/,/c/en/instrument/,/c/en/tool/]', '/a/[/r/RelatedTo/,/c/en/instrument/n/,/c/en/tool/]'} > set()\n"
     ]
    }
   ],
   "source": [
    "word_id = wrapper.getId('ukulele')\n",
    "print(word_id)\n",
    "if word_id:\n",
    "    wrapper.classifyRecurrent([word_id], group_person, group_thing, 5)"
   ]
  }
 ],
 "metadata": {
  "kernelspec": {
   "display_name": "Python 3",
   "language": "python",
   "name": "python3"
  },
  "language_info": {
   "codemirror_mode": {
    "name": "ipython",
    "version": 3
   },
   "file_extension": ".py",
   "mimetype": "text/x-python",
   "name": "python",
   "nbconvert_exporter": "python",
   "pygments_lexer": "ipython3",
   "version": "3.6.5"
  }
 },
 "nbformat": 4,
 "nbformat_minor": 2
}
