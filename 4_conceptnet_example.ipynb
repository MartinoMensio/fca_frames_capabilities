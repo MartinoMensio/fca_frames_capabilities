{
 "cells": [
  {
   "cell_type": "code",
   "execution_count": 1,
   "metadata": {},
   "outputs": [],
   "source": [
    "from conceptnet import ConceptNet\n",
    "\n",
    "wrapper = ConceptNet()\n",
    "# the first group\n",
    "group_person = wrapper.getId('person'), wrapper.getId('human')\n",
    "# the second group\n",
    "group_thing = wrapper.getId('thing'), wrapper.getId('object'), wrapper.getId('item')"
   ]
  },
  {
   "cell_type": "code",
   "execution_count": 2,
   "metadata": {},
   "outputs": [
    {
     "name": "stdout",
     "output_type": "stream",
     "text": [
      "/c/en/boss #direct_rel_person: 2 #direct_rel_thing: 0\n",
      "person\n",
      "/c/en/me #direct_rel_person: 1 #direct_rel_thing: 0\n",
      "person\n",
      "/c/en/student #direct_rel_person: 4 #direct_rel_thing: 0\n",
      "person\n",
      "/c/en/mug #direct_rel_person: 0 #direct_rel_thing: 0\n",
      "\tlevel2 #l2_rel_person: 0 #l2_rel_thing: 2\n",
      "thing\n",
      "/c/en/pen #direct_rel_person: 0 #direct_rel_thing: 1\n",
      "thing\n",
      "/c/en/john #direct_rel_person: 1 #direct_rel_thing: 0\n",
      "person\n"
     ]
    }
   ],
   "source": [
    "candidates = ['the boss', 'me', 'the student', 'the mug', 'the pen', 'John']\n",
    "candidates = [wrapper.getId(c) for c in candidates]\n",
    "for c in candidates:\n",
    "    direct_rel_person = wrapper.relationsBetweenGroups([c], group_person)\n",
    "    direct_rel_thing = wrapper.relationsBetweenGroups([c], group_thing)\n",
    "    \n",
    "    print(c, '#direct_rel_person:', len(direct_rel_person), '#direct_rel_thing:', len(direct_rel_thing))\n",
    "    if not direct_rel_person and not direct_rel_thing:\n",
    "        # go second level, explore the IsA (superclass of candidate)\n",
    "        super_edges = wrapper.getSuperEdges(c)\n",
    "        #print(super_edges)\n",
    "        l2_rel_person = wrapper.relationsBetweenGroups(super_edges, group_person)\n",
    "        l2_rel_thing = wrapper.relationsBetweenGroups(super_edges, group_thing)\n",
    "        print('\\tlevel2', '#l2_rel_person:', len(l2_rel_person), '#l2_rel_thing:', len(l2_rel_thing))\n",
    "        winner = 'thing' if len(l2_rel_person) < len(l2_rel_thing) else 'person'\n",
    "    else:\n",
    "        winner = 'thing' if len(direct_rel_person) < len(direct_rel_thing) else 'person'\n",
    "    print(winner)\n",
    "        "
   ]
  }
 ],
 "metadata": {
  "kernelspec": {
   "display_name": "Python 3",
   "language": "python",
   "name": "python3"
  },
  "language_info": {
   "codemirror_mode": {
    "name": "ipython",
    "version": 3
   },
   "file_extension": ".py",
   "mimetype": "text/x-python",
   "name": "python",
   "nbconvert_exporter": "python",
   "pygments_lexer": "ipython3",
   "version": "3.6.5"
  }
 },
 "nbformat": 4,
 "nbformat_minor": 2
}
