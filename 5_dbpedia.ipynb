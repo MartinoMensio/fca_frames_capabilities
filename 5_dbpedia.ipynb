{
 "cells": [
  {
   "cell_type": "code",
   "execution_count": 1,
   "metadata": {},
   "outputs": [],
   "source": [
    "from collections import defaultdict\n",
    "\n",
    "from dbpedia import DBPedia\n",
    "\n",
    "wrapper = DBPedia()"
   ]
  },
  {
   "cell_type": "code",
   "execution_count": 2,
   "metadata": {},
   "outputs": [
    {
     "name": "stdout",
     "output_type": "stream",
     "text": [
      "['http://dbpedia.org/resource/Book', 'http://dbpedia.org/resource/Towel', 'http://dbpedia.org/resource/Mug']\n",
      "types []\n",
      "all types dict_keys(['http://dbpedia.org/resource/Set'])\n",
      "types ['http://dbpedia.org/ontology/MusicalWork']\n",
      "all types dict_keys(['http://dbpedia.org/ontology/MusicalWork', 'http://dbpedia.org/resource/Piece'])\n",
      "types ['http://dbpedia.org/ontology/SportsEvent']\n",
      "all types dict_keys(['http://dbpedia.org/ontology/SportsEvent', 'http://dbpedia.org/resource/Cup', 'http://dbpedia.org/ontology/Company', 'http://dbpedia.org/resource/Container', 'http://dbpedia.org/ontology/Software', 'http://dbpedia.org/resource/Tool'])\n"
     ]
    }
   ],
   "source": [
    "things = ['book', 'bath towel', 'coffee mug']\n",
    "things = [wrapper.get_id(el) for el in things]\n",
    "print(things)\n",
    "for w in things:\n",
    "    types = wrapper.get_types(w)\n",
    "    print('types', types)\n",
    "    all_types = wrapper.get_types_recurrent(w)\n",
    "    print('all types', all_types)"
   ]
  },
  {
   "cell_type": "code",
   "execution_count": 3,
   "metadata": {},
   "outputs": [
    {
     "name": "stdout",
     "output_type": "stream",
     "text": [
      "dict_keys(['http://dbpedia.org/ontology/SportsEvent', 'http://dbpedia.org/resource/Cup', 'http://dbpedia.org/ontology/Company', 'http://dbpedia.org/resource/Container', 'http://dbpedia.org/ontology/Software', 'http://dbpedia.org/resource/Tool'])\n"
     ]
    }
   ],
   "source": [
    "hyperonyms = wrapper.get_types_recurrent(wrapper.get_id('Mug'))\n",
    "print(hyperonyms)"
   ]
  },
  {
   "cell_type": "code",
   "execution_count": 4,
   "metadata": {},
   "outputs": [
    {
     "name": "stdout",
     "output_type": "stream",
     "text": [
      "http://dbpedia.org/resource/1_(number) dict_keys(['http://dbpedia.org/resource/Number'])\n",
      "http://dbpedia.org/resource/Glasses dict_keys(['http://dbpedia.org/ontology/Device', 'http://dbpedia.org/resource/Devices'])\n",
      "http://dbpedia.org/resource/Mobile dict_keys([])\n",
      "http://dbpedia.org/resource/Message dict_keys(['http://dbpedia.org/ontology/Organisation', 'http://dbpedia.org/resource/Unit'])\n",
      "http://dbpedia.org/resource/Tray dict_keys(['http://dbpedia.org/ontology/Company', 'http://dbpedia.org/resource/Platform'])\n",
      "http://dbpedia.org/resource/BIN dict_keys([])\n",
      "http://dbpedia.org/resource/Mug dict_keys(['http://dbpedia.org/ontology/SportsEvent', 'http://dbpedia.org/resource/Cup', 'http://dbpedia.org/ontology/Company', 'http://dbpedia.org/resource/Container', 'http://dbpedia.org/ontology/Software', 'http://dbpedia.org/resource/Tool'])\n",
      "http://dbpedia.org/resource/Glass dict_keys([])\n",
      "http://dbpedia.org/resource/Cushion dict_keys(['http://dbpedia.org/resource/Bag', 'http://dbpedia.org/ontology/Software', 'http://dbpedia.org/resource/Tool'])\n",
      "http://dbpedia.org/resource/Couches dict_keys(['http://dbpedia.org/ontology/Place', 'http://dbpedia.org/ontology/Location', 'http://dbpedia.org/ontology/PopulatedPlace', 'http://dbpedia.org/ontology/Settlement', 'http://dbpedia.org/resource/Commune', 'http://dbpedia.org/resource/Community', 'http://dbpedia.org/ontology/Organisation', 'http://dbpedia.org/resource/Unit'])\n",
      "http://dbpedia.org/resource/Screwdriver dict_keys(['http://dbpedia.org/ontology/Software', 'http://dbpedia.org/resource/Tool'])\n",
      "http://dbpedia.org/resource/Vase dict_keys(['http://dbpedia.org/ontology/Company', 'http://dbpedia.org/resource/Container', 'http://dbpedia.org/ontology/Software', 'http://dbpedia.org/resource/Tool'])\n",
      "http://dbpedia.org/resource/Cereal dict_keys(['http://dbpedia.org/ontology/Eukaryote', 'http://dbpedia.org/ontology/Plant', 'http://dbpedia.org/ontology/Species'])\n",
      "http://dbpedia.org/resource/Fruit dict_keys(['http://dbpedia.org/ontology/Building', 'http://dbpedia.org/resource/Structure', 'http://dbpedia.org/ontology/MusicalWork', 'http://dbpedia.org/resource/Arrangement'])\n",
      "http://dbpedia.org/resource/Newspaper dict_keys(['http://dbpedia.org/ontology/PeriodicalLiterature', 'http://dbpedia.org/resource/Publication'])\n",
      "http://dbpedia.org/resource/Sink dict_keys(['http://dbpedia.org/ontology/Agent', 'http://dbpedia.org/resource/Fixture'])\n",
      "http://dbpedia.org/resource/Clothing dict_keys(['http://dbpedia.org/ontology/AnatomicalStructure', 'http://dbpedia.org/resource/Fiber', 'http://dbpedia.org/ontology/ChemicalCompound', 'http://dbpedia.org/resource/Substance'])\n",
      "http://dbpedia.org/resource/Telephone dict_keys(['http://dbpedia.org/ontology/Device', 'http://dbpedia.org/resource/Device'])\n",
      "http://dbpedia.org/resource/Plate dict_keys([])\n",
      "http://dbpedia.org/resource/Me dict_keys([])\n",
      "http://dbpedia.org/resource/Fork dict_keys(['http://dbpedia.org/ontology/Software', 'http://dbpedia.org/resource/Tool'])\n",
      "http://dbpedia.org/resource/Apple dict_keys(['http://dbpedia.org/ontology/Eukaryote', 'http://dbpedia.org/ontology/Plant', 'http://dbpedia.org/ontology/Species', 'http://dbpedia.org/resource/Tree', 'http://dbpedia.org/resource/Plant', 'http://dbpedia.org/resource/Eukaryotes'])\n",
      "http://dbpedia.org/resource/Them dict_keys([])\n",
      "http://dbpedia.org/resource/Radio dict_keys(['http://dbpedia.org/resource/Use'])\n",
      "http://dbpedia.org/resource/Folder dict_keys([])\n",
      "http://dbpedia.org/resource/Water dict_keys(['http://dbpedia.org/ontology/ChemicalCompound', 'http://dbpedia.org/resource/Constituent'])\n",
      "http://dbpedia.org/resource/Cigarette dict_keys(['http://dbpedia.org/ontology/MeanOfTransportation', 'http://dbpedia.org/resource/Cylinder'])\n",
      "http://dbpedia.org/resource/Remote dict_keys([])\n",
      "http://dbpedia.org/resource/Table dict_keys([])\n",
      "http://dbpedia.org/resource/Shampoo dict_keys(['http://dbpedia.org/ontology/Software', 'http://dbpedia.org/resource/Product'])\n",
      "http://dbpedia.org/resource/Beers dict_keys([])\n",
      "http://dbpedia.org/resource/Bag dict_keys(['http://dbpedia.org/ontology/Software', 'http://dbpedia.org/resource/Tool'])\n",
      "http://dbpedia.org/resource/Tablecloth dict_keys(['http://dbpedia.org/ontology/Fashion', 'http://dbpedia.org/resource/Cloth'])\n",
      "http://dbpedia.org/resource/Trousers dict_keys(['http://dbpedia.org/ontology/Food', 'http://dbpedia.org/resource/Item'])\n",
      "http://dbpedia.org/resource/Mayo dict_keys([])\n",
      "http://dbpedia.org/resource/Pillow dict_keys(['http://dbpedia.org/ontology/Organisation', 'http://dbpedia.org/resource/Support'])\n",
      "http://dbpedia.org/resource/Napkin dict_keys(['http://dbpedia.org/resource/Rectangle', 'http://dbpedia.org/ontology/Bone', 'http://dbpedia.org/resource/Quadrilateral'])\n",
      "http://dbpedia.org/resource/Paperback dict_keys(['http://dbpedia.org/ontology/Book', 'http://dbpedia.org/resource/Book', 'http://dbpedia.org/resource/Set'])\n",
      "http://dbpedia.org/resource/Cup dict_keys(['http://dbpedia.org/ontology/Company', 'http://dbpedia.org/resource/Container', 'http://dbpedia.org/ontology/Software', 'http://dbpedia.org/resource/Tool'])\n",
      "http://dbpedia.org/resource/It dict_keys([])\n",
      "http://dbpedia.org/resource/Sink dict_keys(['http://dbpedia.org/ontology/Agent', 'http://dbpedia.org/resource/Fixture'])\n",
      "http://dbpedia.org/resource/Some dict_keys([])\n",
      "http://dbpedia.org/resource/Computer dict_keys(['http://dbpedia.org/ontology/Device', 'http://dbpedia.org/resource/Device'])\n",
      "http://dbpedia.org/resource/Bottle dict_keys(['http://dbpedia.org/ontology/Company', 'http://dbpedia.org/resource/Container', 'http://dbpedia.org/ontology/Software', 'http://dbpedia.org/resource/Tool'])\n",
      "http://dbpedia.org/resource/Rag dict_keys([])\n",
      "http://dbpedia.org/resource/Lanyard dict_keys(['http://dbpedia.org/ontology/Ligament', 'http://dbpedia.org/resource/Cord'])\n",
      "http://dbpedia.org/resource/Lot dict_keys([])\n",
      "http://dbpedia.org/resource/Postcard dict_keys(['http://dbpedia.org/ontology/MusicalWork', 'http://dbpedia.org/resource/Piece'])\n",
      "http://dbpedia.org/resource/Tablet dict_keys([])\n",
      "http://dbpedia.org/resource/Juice dict_keys(['http://dbpedia.org/ontology/ChemicalCompound', 'http://dbpedia.org/resource/Liquid'])\n",
      "http://dbpedia.org/resource/Bed dict_keys(['http://dbpedia.org/ontology/MusicalWork', 'http://dbpedia.org/resource/Piece'])\n",
      "http://dbpedia.org/resource/Control dict_keys([])\n",
      "http://dbpedia.org/resource/Can dict_keys([])\n",
      "http://dbpedia.org/resource/You dict_keys(['http://dbpedia.org/resource/Pronoun', 'http://dbpedia.org/ontology/Food', 'http://dbpedia.org/resource/Word', 'http://dbpedia.org/ontology/MilitaryUnit', 'http://dbpedia.org/resource/Element'])\n",
      "http://dbpedia.org/resource/Knife dict_keys(['http://dbpedia.org/ontology/Software', 'http://dbpedia.org/resource/Tool'])\n",
      "http://dbpedia.org/resource/They dict_keys(['http://dbpedia.org/resource/Pronoun', 'http://dbpedia.org/ontology/Food', 'http://dbpedia.org/resource/Word', 'http://dbpedia.org/ontology/MilitaryUnit', 'http://dbpedia.org/resource/Element'])\n",
      "http://dbpedia.org/resource/OF dict_keys([])\n",
      "http://dbpedia.org/resource/Towel dict_keys(['http://dbpedia.org/ontology/MusicalWork', 'http://dbpedia.org/resource/Piece'])\n",
      "http://dbpedia.org/resource/Municipal_solid_waste dict_keys(['http://dbpedia.org/resource/Type'])\n",
      "http://dbpedia.org/resource/Catalog dict_keys([])\n",
      "http://dbpedia.org/resource/Slipper dict_keys(['http://dbpedia.org/ontology/Fashion', 'http://dbpedia.org/resource/Shoes'])\n",
      "http://dbpedia.org/resource/Refrigerator dict_keys(['http://dbpedia.org/ontology/InformationAppliance', 'http://dbpedia.org/resource/Appliance'])\n",
      "http://dbpedia.org/resource/Chair dict_keys(['http://dbpedia.org/ontology/MusicalWork', 'http://dbpedia.org/resource/Piece'])\n",
      "http://dbpedia.org/resource/Box dict_keys([])\n",
      "http://dbpedia.org/resource/Mobile_phone dict_keys(['http://dbpedia.org/ontology/Company', 'http://dbpedia.org/resource/Telephone', 'http://dbpedia.org/ontology/Device', 'http://dbpedia.org/resource/Device'])\n",
      "http://dbpedia.org/resource/Fork dict_keys(['http://dbpedia.org/ontology/Software', 'http://dbpedia.org/resource/Tool'])\n",
      "http://dbpedia.org/resource/Kettle dict_keys(['http://dbpedia.org/ontology/Beverage', 'http://dbpedia.org/resource/Pot'])\n",
      "http://dbpedia.org/resource/Pasta dict_keys(['http://dbpedia.org/ontology/Food', 'http://dbpedia.org/resource/Food'])\n",
      "http://dbpedia.org/resource/Roll dict_keys([])\n"
     ]
    },
    {
     "name": "stdout",
     "output_type": "stream",
     "text": [
      "http://dbpedia.org/resource/Book dict_keys(['http://dbpedia.org/resource/Set'])\n",
      "http://dbpedia.org/resource/Reading dict_keys([])\n",
      "http://dbpedia.org/resource/Trash dict_keys([])\n",
      "http://dbpedia.org/resource/Mustard dict_keys([])\n",
      "http://dbpedia.org/resource/On dict_keys([])\n",
      "http://dbpedia.org/resource/Yogurt dict_keys(['http://dbpedia.org/ontology/Food', 'http://dbpedia.org/resource/Food'])\n",
      "http://dbpedia.org/resource/'s dict_keys([])\n",
      "http://dbpedia.org/resource/Paper dict_keys(['http://dbpedia.org/ontology/ChemicalCompound', 'http://dbpedia.org/resource/Material'])\n",
      "http://dbpedia.org/resource/Cups dict_keys([])\n",
      "http://dbpedia.org/resource/Jacket dict_keys(['http://dbpedia.org/ontology/Fashion', 'http://dbpedia.org/resource/Garment'])\n",
      "http://dbpedia.org/resource/Bags dict_keys([])\n",
      "http://dbpedia.org/resource/Detergent dict_keys(['http://dbpedia.org/ontology/ChemicalCompound', 'http://dbpedia.org/resource/Surfactant', 'http://dbpedia.org/resource/Compounds'])\n",
      "http://dbpedia.org/resource/Mug dict_keys(['http://dbpedia.org/ontology/SportsEvent', 'http://dbpedia.org/resource/Cup', 'http://dbpedia.org/ontology/Company', 'http://dbpedia.org/resource/Container', 'http://dbpedia.org/ontology/Software', 'http://dbpedia.org/resource/Tool'])\n",
      "http://dbpedia.org/resource/Jar dict_keys([])\n",
      "http://dbpedia.org/resource/Soap dict_keys(['http://dbpedia.org/ontology/ChemicalCompound', 'http://dbpedia.org/resource/Salt', 'http://dbpedia.org/ontology/Mineral', 'http://dbpedia.org/resource/Mineral'])\n",
      "http://dbpedia.org/resource/Can dict_keys([])\n",
      "http://dbpedia.org/resource/Coat dict_keys([])\n",
      "http://dbpedia.org/resource/Bread dict_keys(['http://dbpedia.org/ontology/Food', 'http://dbpedia.org/resource/Food'])\n",
      "http://dbpedia.org/resource/Envelope dict_keys(['http://dbpedia.org/ontology/Food', 'http://dbpedia.org/resource/Item'])\n",
      "http://dbpedia.org/resource/Glasses dict_keys(['http://dbpedia.org/ontology/Device', 'http://dbpedia.org/resource/Devices'])\n",
      "http://dbpedia.org/resource/Chair dict_keys(['http://dbpedia.org/ontology/MusicalWork', 'http://dbpedia.org/resource/Piece'])\n",
      "http://dbpedia.org/resource/Coke dict_keys([])\n",
      "http://dbpedia.org/resource/Plate dict_keys([])\n",
      "http://dbpedia.org/resource/Pack dict_keys([])\n",
      "http://dbpedia.org/resource/Magazine dict_keys(['http://dbpedia.org/ontology/PeriodicalLiterature', 'http://dbpedia.org/resource/Publications'])\n",
      "http://dbpedia.org/resource/Aspirin dict_keys(['http://dbpedia.org/ontology/ChemicalSubstance', 'http://dbpedia.org/ontology/Drug', 'http://dbpedia.org/resource/Medication'])\n",
      "http://dbpedia.org/resource/Tub dict_keys([])\n",
      "http://dbpedia.org/resource/Milk dict_keys([])\n",
      "http://dbpedia.org/resource/Laptop dict_keys(['http://dbpedia.org/ontology/InformationAppliance', 'http://dbpedia.org/resource/Computer', 'http://dbpedia.org/ontology/Device', 'http://dbpedia.org/resource/Device'])\n",
      "http://dbpedia.org/resource/Pan dict_keys([])\n",
      "http://dbpedia.org/resource/Watch dict_keys(['http://dbpedia.org/resource/Timepiece'])\n",
      "http://dbpedia.org/resource/Pot dict_keys([])\n",
      "http://dbpedia.org/resource/Telephone dict_keys(['http://dbpedia.org/ontology/Device', 'http://dbpedia.org/resource/Device'])\n"
     ]
    }
   ],
   "source": [
    "# semantic heads, extracted with SpaCy: heads = set([str(list(nlp(el).sents)[0].root) for el in a])\n",
    "heads = ['one', 'glasses', 'mobile', 'message', 'tray', 'bin', 'mugs', 'glass', 'cushion', 'couches', 'screwdriver', 'vase', 'cereals', 'fruit', 'newspaper', 'sinks', 'clothes', 'telephone', 'plates', 'me', 'forks', 'apple', 'them', 'radio', 'folder', 'water', 'cigarettes', 'remote', 'table', 'shampoo', 'beers', 'bag', 'tablecloth', 'trousers', 'mayo', 'pillow', 'napkins', 'paperback', 'cup', 'it', 'sink', 'some', 'computer', 'bottle', 'rag', 'lanyard', 'lot', 'postcard', 'tablet', 'juice', 'bed', 'control', 'can', 'you', 'knife', 'they', 'of', 'towel', 'garbage', 'catalogue', 'slippers', 'fridge', 'chairs', 'box', 'cellphone', 'fork', 'kettle', 'pasta', 'roll', 'book', 'reading', 'trash', 'mustard', 'on', 'yogurt', \"'s\", 'paper', 'cups', 'jacket', 'bags', 'detergent', 'mug', 'jar', 'soap', 'cans', 'coat', 'bread', 'envelope', 'eyeglass', 'chair', 'coke', 'plate', 'pack', 'magazine', 'aspirin', 'tub', 'milk', 'laptop', 'pan', 'wristwatch', 'pot', 'phone']\n",
    "heads = [wrapper.get_id(el) for el in heads]\n",
    "all_hyperonyms = defaultdict(lambda: 0)\n",
    "for w in heads:\n",
    "    hyperonyms = wrapper.get_types_recurrent(w)\n",
    "    print(w, hyperonyms)\n",
    "    for w in hyperonyms:\n",
    "        all_hyperonyms[w] += 1"
   ]
  },
  {
   "cell_type": "code",
   "execution_count": 5,
   "metadata": {},
   "outputs": [
    {
     "name": "stdout",
     "output_type": "stream",
     "text": [
      "[('http://dbpedia.org/ontology/Software', 12), ('http://dbpedia.org/resource/Tool', 11), ('http://dbpedia.org/ontology/Device', 7), ('http://dbpedia.org/ontology/Company', 7), ('http://dbpedia.org/ontology/Food', 7), ('http://dbpedia.org/ontology/MusicalWork', 6), ('http://dbpedia.org/ontology/ChemicalCompound', 6), ('http://dbpedia.org/resource/Container', 5), ('http://dbpedia.org/resource/Device', 5), ('http://dbpedia.org/resource/Piece', 5), ('http://dbpedia.org/ontology/Organisation', 3), ('http://dbpedia.org/ontology/Fashion', 3), ('http://dbpedia.org/resource/Food', 3), ('http://dbpedia.org/resource/Devices', 2), ('http://dbpedia.org/resource/Unit', 2), ('http://dbpedia.org/ontology/SportsEvent', 2), ('http://dbpedia.org/resource/Cup', 2), ('http://dbpedia.org/ontology/Eukaryote', 2), ('http://dbpedia.org/ontology/Plant', 2), ('http://dbpedia.org/ontology/Species', 2), ('http://dbpedia.org/ontology/PeriodicalLiterature', 2), ('http://dbpedia.org/ontology/Agent', 2), ('http://dbpedia.org/resource/Fixture', 2), ('http://dbpedia.org/resource/Item', 2), ('http://dbpedia.org/resource/Set', 2), ('http://dbpedia.org/resource/Pronoun', 2), ('http://dbpedia.org/resource/Word', 2), ('http://dbpedia.org/ontology/MilitaryUnit', 2), ('http://dbpedia.org/resource/Element', 2), ('http://dbpedia.org/ontology/InformationAppliance', 2), ('http://dbpedia.org/resource/Number', 1), ('http://dbpedia.org/resource/Platform', 1), ('http://dbpedia.org/resource/Bag', 1), ('http://dbpedia.org/ontology/Place', 1), ('http://dbpedia.org/ontology/Location', 1), ('http://dbpedia.org/ontology/PopulatedPlace', 1), ('http://dbpedia.org/ontology/Settlement', 1), ('http://dbpedia.org/resource/Commune', 1), ('http://dbpedia.org/resource/Community', 1), ('http://dbpedia.org/ontology/Building', 1), ('http://dbpedia.org/resource/Structure', 1), ('http://dbpedia.org/resource/Arrangement', 1), ('http://dbpedia.org/resource/Publication', 1), ('http://dbpedia.org/ontology/AnatomicalStructure', 1), ('http://dbpedia.org/resource/Fiber', 1), ('http://dbpedia.org/resource/Substance', 1), ('http://dbpedia.org/resource/Tree', 1), ('http://dbpedia.org/resource/Plant', 1), ('http://dbpedia.org/resource/Eukaryotes', 1), ('http://dbpedia.org/resource/Use', 1), ('http://dbpedia.org/resource/Constituent', 1), ('http://dbpedia.org/ontology/MeanOfTransportation', 1), ('http://dbpedia.org/resource/Cylinder', 1), ('http://dbpedia.org/resource/Product', 1), ('http://dbpedia.org/resource/Cloth', 1), ('http://dbpedia.org/resource/Support', 1), ('http://dbpedia.org/resource/Rectangle', 1), ('http://dbpedia.org/ontology/Bone', 1), ('http://dbpedia.org/resource/Quadrilateral', 1), ('http://dbpedia.org/ontology/Book', 1), ('http://dbpedia.org/resource/Book', 1), ('http://dbpedia.org/ontology/Ligament', 1), ('http://dbpedia.org/resource/Cord', 1), ('http://dbpedia.org/resource/Liquid', 1), ('http://dbpedia.org/resource/Type', 1), ('http://dbpedia.org/resource/Shoes', 1), ('http://dbpedia.org/resource/Appliance', 1), ('http://dbpedia.org/resource/Telephone', 1), ('http://dbpedia.org/ontology/Beverage', 1), ('http://dbpedia.org/resource/Pot', 1), ('http://dbpedia.org/resource/Material', 1), ('http://dbpedia.org/resource/Garment', 1), ('http://dbpedia.org/resource/Surfactant', 1), ('http://dbpedia.org/resource/Compounds', 1), ('http://dbpedia.org/resource/Salt', 1), ('http://dbpedia.org/ontology/Mineral', 1), ('http://dbpedia.org/resource/Mineral', 1), ('http://dbpedia.org/resource/Publications', 1), ('http://dbpedia.org/ontology/ChemicalSubstance', 1), ('http://dbpedia.org/ontology/Drug', 1), ('http://dbpedia.org/resource/Medication', 1), ('http://dbpedia.org/resource/Computer', 1), ('http://dbpedia.org/resource/Timepiece', 1)]\n"
     ]
    }
   ],
   "source": [
    "sorted_hyperonyms = sorted([(k,v) for k,v in all_hyperonyms.items()], key=lambda el: el[1], reverse=True)\n",
    "print(sorted_hyperonyms)"
   ]
  },
  {
   "cell_type": "code",
   "execution_count": null,
   "metadata": {},
   "outputs": [],
   "source": []
  }
 ],
 "metadata": {
  "kernelspec": {
   "display_name": "Python 3",
   "language": "python",
   "name": "python3"
  },
  "language_info": {
   "codemirror_mode": {
    "name": "ipython",
    "version": 3
   },
   "file_extension": ".py",
   "mimetype": "text/x-python",
   "name": "python",
   "nbconvert_exporter": "python",
   "pygments_lexer": "ipython3",
   "version": "3.6.5"
  }
 },
 "nbformat": 4,
 "nbformat_minor": 2
}
